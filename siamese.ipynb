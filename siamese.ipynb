{
 "cells": [
  {
   "cell_type": "code",
   "execution_count": 1,
   "metadata": {},
   "outputs": [],
   "source": [
    "import pandas as pd"
   ]
  },
  {
   "cell_type": "code",
   "execution_count": 2,
   "metadata": {},
   "outputs": [],
   "source": [
    "df = pd.read_csv('siamese_synonyms.csv')\n",
    "df.drop(['Unnamed: 0'], axis=1, inplace = True)"
   ]
  },
  {
   "cell_type": "code",
   "execution_count": 3,
   "metadata": {},
   "outputs": [
    {
     "name": "stderr",
     "output_type": "stream",
     "text": [
      "Warning : `load_model` does not return WordVectorModel or SupervisedModel any more, but a `FastText` object which is very similar.\n"
     ]
    }
   ],
   "source": [
    "import fasttext\n",
    "path = 'ft_native_300_ru_wiki_lenta_lemmatize.bin'\n",
    "fasttext_model = fasttext.load_model(path)"
   ]
  },
  {
   "cell_type": "code",
   "execution_count": 4,
   "metadata": {},
   "outputs": [],
   "source": [
    "df['Word_1'] = df['Word_1'].apply(lambda x: fasttext_model[x])\n",
    "df['Word_2'] = df['Word_2'].apply(lambda x: fasttext_model[x])"
   ]
  },
  {
   "cell_type": "code",
   "execution_count": 5,
   "metadata": {},
   "outputs": [],
   "source": [
    "import torch\n",
    "from torch.utils.data import Dataset, DataLoader\n",
    "\n",
    "class SynonimsDataset(Dataset):\n",
    "    def __init__(self, data_file, embeddings = None):\n",
    "        self.data = data_file #FIX\n",
    "        self.embeddings = embeddings\n",
    "\n",
    "    def __len__(self):\n",
    "        return len(self.data)\n",
    "\n",
    "    def __getitem__(self, idx):\n",
    "        word_1, word_2, is_synonims = self.data.iloc[idx]\n",
    "        if self.embeddings:\n",
    "            word_1 = self.embeddings[word_1]\n",
    "            word_2 = self.embeddings[word_2]\n",
    "        is_synonims = 1 if is_synonims else -1 \n",
    "        return word_1, word_2, is_synonims"
   ]
  },
  {
   "cell_type": "code",
   "execution_count": 6,
   "metadata": {},
   "outputs": [],
   "source": [
    "from sklearn.model_selection import train_test_split\n",
    "train, test = train_test_split(df)\n",
    "train, val = train_test_split(train)\n",
    "BATCH_SIZE = 128\n",
    "\n",
    "train_dataloader = DataLoader(SynonimsDataset(train), batch_size=BATCH_SIZE, shuffle=False)\n",
    "val_dataloader = DataLoader(SynonimsDataset(val), batch_size=BATCH_SIZE, shuffle=False)\n",
    "test_dataloader = DataLoader(SynonimsDataset(test), batch_size=BATCH_SIZE, shuffle=False)"
   ]
  },
  {
   "cell_type": "code",
   "execution_count": 7,
   "metadata": {},
   "outputs": [],
   "source": [
    "from model import BaseSiamese\n",
    "from tqdm.notebook import tqdm\n",
    "from sklearn.metrics import accuracy_score\n",
    "\n",
    "DEVICE = torch.device('cuda')\n",
    "\n",
    "model = BaseSiamese(300)\n",
    "model.to(DEVICE)\n",
    "\n",
    "loss_fn = torch.nn.CosineEmbeddingLoss()\n",
    "optimizer = torch.optim.Adam(params = model.parameters(), lr=1e-3, weight_decay=1e-5)\n",
    "\n",
    "def train(device, model, num_epochs, train_dataloader, val_dataloader, loss_fn=loss_fn, optimizer=optimizer):\n",
    "    model.train()\n",
    "    for epoch in range(num_epochs):\n",
    "        tr_loss = 0\n",
    "        for batch in tqdm(train_dataloader):\n",
    "            word_1, word_2, label = tuple(t.to(device) for t in batch)\n",
    "            word_1_processed = model(word_1)\n",
    "            word_2_processed = model(word_2)\n",
    "            loss = loss_fn(word_1_processed, word_2_processed, label)\n",
    "            \n",
    "            optimizer.zero_grad()\n",
    "            loss.backward()\n",
    "            tr_loss += loss.item()\n",
    "\n",
    "            optimizer.step()\n",
    "        \n",
    "        val_loss, val_acc = evaluate(device, model, val_dataloader)\n",
    "        print(f\"epoch {epoch}, loss: {tr_loss/len(train_dataloader)}\") #fix\n",
    "        print(f\"valid loss: {val_loss}, valid accuracy {val_acc}\")\n",
    "\n",
    "def evaluate(device, model, val_dataloader, loss_fn=loss_fn):\n",
    "    model.eval()\n",
    "    eval_loss = 0\n",
    "    cos = torch.nn.CosineSimilarity(dim=1)\n",
    "    predicted_labels = []\n",
    "    correct_labels = []\n",
    "    for batch in tqdm(val_dataloader):\n",
    "        word_1, word_2, label = tuple(t.to(device) for t in batch)\n",
    "        word_1_processed = model(word_1)\n",
    "        word_2_processed = model(word_2)\n",
    "        loss = loss_fn(word_1_processed, word_2_processed, label)\n",
    "        eval_loss += loss.item()\n",
    "        sim = cos(word_1_processed, word_2_processed)\n",
    "        predicted_labels += list(sim.cpu() > 0.5)\n",
    "        correct_labels += list(label.cpu() == 1)\n",
    "    # return predicted_labels, correct_labels\n",
    "        \n",
    "    return eval_loss/len(val_dataloader), accuracy_score(predicted_labels, correct_labels) #fix"
   ]
  },
  {
   "cell_type": "code",
   "execution_count": 8,
   "metadata": {},
   "outputs": [
    {
     "data": {
      "application/vnd.jupyter.widget-view+json": {
       "model_id": "002f0d7154304bd69f4e1d367322025a",
       "version_major": 2,
       "version_minor": 0
      },
      "text/plain": [
       "  0%|          | 0/2438 [00:00<?, ?it/s]"
      ]
     },
     "metadata": {},
     "output_type": "display_data"
    },
    {
     "data": {
      "application/vnd.jupyter.widget-view+json": {
       "model_id": "1df553685f2c43e1b35c0b02a1bab82d",
       "version_major": 2,
       "version_minor": 0
      },
      "text/plain": [
       "  0%|          | 0/813 [00:00<?, ?it/s]"
      ]
     },
     "metadata": {},
     "output_type": "display_data"
    },
    {
     "name": "stdout",
     "output_type": "stream",
     "text": [
      "epoch 0, loss: 0.25185492804688053\n",
      "valid loss: 0.2390517454965528, valid accuracy 0.821225235622235\n"
     ]
    },
    {
     "data": {
      "application/vnd.jupyter.widget-view+json": {
       "model_id": "10e777cf13d14e62baade24356dfc0d6",
       "version_major": 2,
       "version_minor": 0
      },
      "text/plain": [
       "  0%|          | 0/2438 [00:00<?, ?it/s]"
      ]
     },
     "metadata": {},
     "output_type": "display_data"
    },
    {
     "data": {
      "application/vnd.jupyter.widget-view+json": {
       "model_id": "d16306d309994fcbb284653092489078",
       "version_major": 2,
       "version_minor": 0
      },
      "text/plain": [
       "  0%|          | 0/813 [00:00<?, ?it/s]"
      ]
     },
     "metadata": {},
     "output_type": "display_data"
    },
    {
     "name": "stdout",
     "output_type": "stream",
     "text": [
      "epoch 1, loss: 0.23927350608758793\n",
      "valid loss: 0.23770079161481517, valid accuracy 0.8223600692440854\n"
     ]
    },
    {
     "data": {
      "application/vnd.jupyter.widget-view+json": {
       "model_id": "516136b9990b4129b57ca190728dc809",
       "version_major": 2,
       "version_minor": 0
      },
      "text/plain": [
       "  0%|          | 0/2438 [00:00<?, ?it/s]"
      ]
     },
     "metadata": {},
     "output_type": "display_data"
    },
    {
     "data": {
      "application/vnd.jupyter.widget-view+json": {
       "model_id": "9c52982cb116444197a0c3a1c3c58ce5",
       "version_major": 2,
       "version_minor": 0
      },
      "text/plain": [
       "  0%|          | 0/813 [00:00<?, ?it/s]"
      ]
     },
     "metadata": {},
     "output_type": "display_data"
    },
    {
     "name": "stdout",
     "output_type": "stream",
     "text": [
      "epoch 2, loss: 0.2384187940071116\n",
      "valid loss: 0.23723934253570045, valid accuracy 0.8225427966916715\n"
     ]
    },
    {
     "data": {
      "application/vnd.jupyter.widget-view+json": {
       "model_id": "4b7d9dc0ea354e188af108bbdefafb30",
       "version_major": 2,
       "version_minor": 0
      },
      "text/plain": [
       "  0%|          | 0/2438 [00:00<?, ?it/s]"
      ]
     },
     "metadata": {},
     "output_type": "display_data"
    },
    {
     "data": {
      "application/vnd.jupyter.widget-view+json": {
       "model_id": "d28e424851ad431d8845b8f0ba0b38f7",
       "version_major": 2,
       "version_minor": 0
      },
      "text/plain": [
       "  0%|          | 0/813 [00:00<?, ?it/s]"
      ]
     },
     "metadata": {},
     "output_type": "display_data"
    },
    {
     "name": "stdout",
     "output_type": "stream",
     "text": [
      "epoch 3, loss: 0.23795537847392964\n",
      "valid loss: 0.23701629588818052, valid accuracy 0.8226678207347566\n"
     ]
    },
    {
     "data": {
      "application/vnd.jupyter.widget-view+json": {
       "model_id": "4062da5497c740b0b1d8b23af98f78e6",
       "version_major": 2,
       "version_minor": 0
      },
      "text/plain": [
       "  0%|          | 0/2438 [00:00<?, ?it/s]"
      ]
     },
     "metadata": {},
     "output_type": "display_data"
    },
    {
     "data": {
      "application/vnd.jupyter.widget-view+json": {
       "model_id": "a88146d23ea44793886d9623ef4d5b93",
       "version_major": 2,
       "version_minor": 0
      },
      "text/plain": [
       "  0%|          | 0/813 [00:00<?, ?it/s]"
      ]
     },
     "metadata": {},
     "output_type": "display_data"
    },
    {
     "name": "stdout",
     "output_type": "stream",
     "text": [
      "epoch 4, loss: 0.2376587052903672\n",
      "valid loss: 0.23680795837299118, valid accuracy 0.8230909790344297\n"
     ]
    },
    {
     "data": {
      "application/vnd.jupyter.widget-view+json": {
       "model_id": "66487253e4034b6cbff4cb7965ad1c7a",
       "version_major": 2,
       "version_minor": 0
      },
      "text/plain": [
       "  0%|          | 0/2438 [00:00<?, ?it/s]"
      ]
     },
     "metadata": {},
     "output_type": "display_data"
    },
    {
     "data": {
      "application/vnd.jupyter.widget-view+json": {
       "model_id": "63fedb19f8074a418768ddd5c276a0ea",
       "version_major": 2,
       "version_minor": 0
      },
      "text/plain": [
       "  0%|          | 0/813 [00:00<?, ?it/s]"
      ]
     },
     "metadata": {},
     "output_type": "display_data"
    },
    {
     "name": "stdout",
     "output_type": "stream",
     "text": [
      "epoch 5, loss: 0.23742746231104137\n",
      "valid loss: 0.23666376548133067, valid accuracy 0.8234564339296019\n"
     ]
    },
    {
     "data": {
      "application/vnd.jupyter.widget-view+json": {
       "model_id": "cde1ab1d824b4a3281671c01ccda41de",
       "version_major": 2,
       "version_minor": 0
      },
      "text/plain": [
       "  0%|          | 0/2438 [00:00<?, ?it/s]"
      ]
     },
     "metadata": {},
     "output_type": "display_data"
    },
    {
     "data": {
      "application/vnd.jupyter.widget-view+json": {
       "model_id": "b93029b5446e4576900fcf95f2f52bc3",
       "version_major": 2,
       "version_minor": 0
      },
      "text/plain": [
       "  0%|          | 0/813 [00:00<?, ?it/s]"
      ]
     },
     "metadata": {},
     "output_type": "display_data"
    },
    {
     "name": "stdout",
     "output_type": "stream",
     "text": [
      "epoch 6, loss: 0.23727606615881336\n",
      "valid loss: 0.23662392368029259, valid accuracy 0.8231102135025966\n"
     ]
    },
    {
     "data": {
      "application/vnd.jupyter.widget-view+json": {
       "model_id": "dd928ccae22b4405aa2e3b5bbae5a714",
       "version_major": 2,
       "version_minor": 0
      },
      "text/plain": [
       "  0%|          | 0/2438 [00:00<?, ?it/s]"
      ]
     },
     "metadata": {},
     "output_type": "display_data"
    },
    {
     "data": {
      "application/vnd.jupyter.widget-view+json": {
       "model_id": "014e6b3511ad402390aa40f21c7917b5",
       "version_major": 2,
       "version_minor": 0
      },
      "text/plain": [
       "  0%|          | 0/813 [00:00<?, ?it/s]"
      ]
     },
     "metadata": {},
     "output_type": "display_data"
    },
    {
     "name": "stdout",
     "output_type": "stream",
     "text": [
      "epoch 7, loss: 0.23716251541714475\n",
      "valid loss: 0.23648477759015224, valid accuracy 0.8234756683977688\n"
     ]
    },
    {
     "data": {
      "application/vnd.jupyter.widget-view+json": {
       "model_id": "fe32722ba9984b8d9908c4214b845fcb",
       "version_major": 2,
       "version_minor": 0
      },
      "text/plain": [
       "  0%|          | 0/2438 [00:00<?, ?it/s]"
      ]
     },
     "metadata": {},
     "output_type": "display_data"
    },
    {
     "data": {
      "application/vnd.jupyter.widget-view+json": {
       "model_id": "79b80a338a354deea00253f7d16ee3c7",
       "version_major": 2,
       "version_minor": 0
      },
      "text/plain": [
       "  0%|          | 0/813 [00:00<?, ?it/s]"
      ]
     },
     "metadata": {},
     "output_type": "display_data"
    },
    {
     "name": "stdout",
     "output_type": "stream",
     "text": [
      "epoch 8, loss: 0.23707268909047724\n",
      "valid loss: 0.23641458485472538, valid accuracy 0.8237257164839392\n"
     ]
    },
    {
     "data": {
      "application/vnd.jupyter.widget-view+json": {
       "model_id": "201877e69b6a4cb581a66bc3f58e3a7b",
       "version_major": 2,
       "version_minor": 0
      },
      "text/plain": [
       "  0%|          | 0/2438 [00:00<?, ?it/s]"
      ]
     },
     "metadata": {},
     "output_type": "display_data"
    },
    {
     "data": {
      "application/vnd.jupyter.widget-view+json": {
       "model_id": "fa9aef0daaa545ba95e0ef7c0974c91d",
       "version_major": 2,
       "version_minor": 0
      },
      "text/plain": [
       "  0%|          | 0/813 [00:00<?, ?it/s]"
      ]
     },
     "metadata": {},
     "output_type": "display_data"
    },
    {
     "name": "stdout",
     "output_type": "stream",
     "text": [
      "epoch 9, loss: 0.2370064547063876\n",
      "valid loss: 0.23637510955260396, valid accuracy 0.8235141373341027\n"
     ]
    }
   ],
   "source": [
    "train(DEVICE, model, 10, train_dataloader, val_dataloader, loss_fn, optimizer)"
   ]
  },
  {
   "cell_type": "code",
   "execution_count": 10,
   "metadata": {},
   "outputs": [
    {
     "data": {
      "application/vnd.jupyter.widget-view+json": {
       "model_id": "93d0ff8a6f8743fd9f0ea9d59f8540b0",
       "version_major": 2,
       "version_minor": 0
      },
      "text/plain": [
       "  0%|          | 0/1084 [00:00<?, ?it/s]"
      ]
     },
     "metadata": {},
     "output_type": "display_data"
    },
    {
     "data": {
      "text/plain": [
       "0.8236295441431044"
      ]
     },
     "execution_count": 10,
     "metadata": {},
     "output_type": "execute_result"
    }
   ],
   "source": [
    "_, accuracy = evaluate(DEVICE, model, test_dataloader, loss_fn)\n",
    "accuracy"
   ]
  },
  {
   "cell_type": "code",
   "execution_count": null,
   "metadata": {},
   "outputs": [],
   "source": []
  }
 ],
 "metadata": {
  "interpreter": {
   "hash": "26e80481c609af4ffba137e5a96c6bf171e02b8aef07539996be3af810c89232"
  },
  "kernelspec": {
   "display_name": "Python 3.8.10 ('.venv': venv)",
   "language": "python",
   "name": "python3"
  },
  "language_info": {
   "codemirror_mode": {
    "name": "ipython",
    "version": 3
   },
   "file_extension": ".py",
   "mimetype": "text/x-python",
   "name": "python",
   "nbconvert_exporter": "python",
   "pygments_lexer": "ipython3",
   "version": "3.8.10"
  },
  "orig_nbformat": 4
 },
 "nbformat": 4,
 "nbformat_minor": 2
}
