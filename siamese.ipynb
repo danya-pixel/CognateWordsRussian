{
 "cells": [
  {
   "cell_type": "code",
   "execution_count": 3,
   "metadata": {},
   "outputs": [],
   "source": [
    "import pandas as pd"
   ]
  },
  {
   "cell_type": "code",
   "execution_count": 4,
   "metadata": {},
   "outputs": [
    {
     "data": {
      "text/html": [
       "<div>\n",
       "<style scoped>\n",
       "    .dataframe tbody tr th:only-of-type {\n",
       "        vertical-align: middle;\n",
       "    }\n",
       "\n",
       "    .dataframe tbody tr th {\n",
       "        vertical-align: top;\n",
       "    }\n",
       "\n",
       "    .dataframe thead th {\n",
       "        text-align: right;\n",
       "    }\n",
       "</style>\n",
       "<table border=\"1\" class=\"dataframe\">\n",
       "  <thead>\n",
       "    <tr style=\"text-align: right;\">\n",
       "      <th></th>\n",
       "      <th>Word_1</th>\n",
       "      <th>Word_2</th>\n",
       "      <th>Label</th>\n",
       "    </tr>\n",
       "  </thead>\n",
       "  <tbody>\n",
       "    <tr>\n",
       "      <th>0</th>\n",
       "      <td>машина</td>\n",
       "      <td>тачка</td>\n",
       "      <td>1</td>\n",
       "    </tr>\n",
       "    <tr>\n",
       "      <th>1</th>\n",
       "      <td>машина</td>\n",
       "      <td>колёса</td>\n",
       "      <td>1</td>\n",
       "    </tr>\n",
       "    <tr>\n",
       "      <th>2</th>\n",
       "      <td>тачка</td>\n",
       "      <td>автомашина</td>\n",
       "      <td>1</td>\n",
       "    </tr>\n",
       "    <tr>\n",
       "      <th>3</th>\n",
       "      <td>тачка</td>\n",
       "      <td>драндулет</td>\n",
       "      <td>1</td>\n",
       "    </tr>\n",
       "    <tr>\n",
       "      <th>4</th>\n",
       "      <td>тачка</td>\n",
       "      <td>колёса</td>\n",
       "      <td>1</td>\n",
       "    </tr>\n",
       "    <tr>\n",
       "      <th>...</th>\n",
       "      <td>...</td>\n",
       "      <td>...</td>\n",
       "      <td>...</td>\n",
       "    </tr>\n",
       "    <tr>\n",
       "      <th>554555</th>\n",
       "      <td>товарищ</td>\n",
       "      <td>наговаривание</td>\n",
       "      <td>0</td>\n",
       "    </tr>\n",
       "    <tr>\n",
       "      <th>554556</th>\n",
       "      <td>блоха</td>\n",
       "      <td>пролегать</td>\n",
       "      <td>0</td>\n",
       "    </tr>\n",
       "    <tr>\n",
       "      <th>554557</th>\n",
       "      <td>жадность</td>\n",
       "      <td>давать</td>\n",
       "      <td>0</td>\n",
       "    </tr>\n",
       "    <tr>\n",
       "      <th>554558</th>\n",
       "      <td>непросвещённый</td>\n",
       "      <td>постигнуть</td>\n",
       "      <td>0</td>\n",
       "    </tr>\n",
       "    <tr>\n",
       "      <th>554559</th>\n",
       "      <td>личность</td>\n",
       "      <td>зело</td>\n",
       "      <td>0</td>\n",
       "    </tr>\n",
       "  </tbody>\n",
       "</table>\n",
       "<p>554560 rows × 3 columns</p>\n",
       "</div>"
      ],
      "text/plain": [
       "                Word_1         Word_2  Label\n",
       "0               машина          тачка      1\n",
       "1               машина         колёса      1\n",
       "2                тачка     автомашина      1\n",
       "3                тачка      драндулет      1\n",
       "4                тачка         колёса      1\n",
       "...                ...            ...    ...\n",
       "554555         товарищ  наговаривание      0\n",
       "554556           блоха      пролегать      0\n",
       "554557        жадность         давать      0\n",
       "554558  непросвещённый     постигнуть      0\n",
       "554559        личность           зело      0\n",
       "\n",
       "[554560 rows x 3 columns]"
      ]
     },
     "execution_count": 4,
     "metadata": {},
     "output_type": "execute_result"
    }
   ],
   "source": [
    "df = pd.read_csv(\"data/siamese_synonyms.csv\")\n",
    "df"
   ]
  },
  {
   "cell_type": "markdown",
   "metadata": {},
   "source": [
    "## Get word vectors (RU fasttext embeddings)"
   ]
  },
  {
   "cell_type": "code",
   "execution_count": 5,
   "metadata": {},
   "outputs": [
    {
     "name": "stderr",
     "output_type": "stream",
     "text": [
      "Warning : `load_model` does not return WordVectorModel or SupervisedModel any more, but a `FastText` object which is very similar.\n"
     ]
    }
   ],
   "source": [
    "import fasttext.util\n",
    "\n",
    "fasttext.util.download_model(\"ru\", if_exists=\"ignore\")\n",
    "fasttext_model = fasttext.load_model(\"cc.ru.300.bin\")"
   ]
  },
  {
   "cell_type": "code",
   "execution_count": 6,
   "metadata": {},
   "outputs": [],
   "source": [
    "import torch\n",
    "from torch.utils.data import DataLoader\n",
    "from dataset import SynonymsDataset\n",
    "\n",
    "from sklearn.model_selection import train_test_split\n",
    "\n",
    "train, test = train_test_split(df)\n",
    "train, val = train_test_split(train)\n",
    "BATCH_SIZE = 256\n",
    "\n",
    "train_dataloader = DataLoader(\n",
    "    SynonymsDataset(train, fasttext_model), batch_size=BATCH_SIZE, shuffle=False\n",
    ")\n",
    "val_dataloader = DataLoader(\n",
    "    SynonymsDataset(val, fasttext_model), batch_size=BATCH_SIZE, shuffle=False\n",
    ")\n",
    "test_dataloader = DataLoader(\n",
    "    SynonymsDataset(test, fasttext_model), batch_size=BATCH_SIZE, shuffle=False\n",
    ")"
   ]
  },
  {
   "cell_type": "markdown",
   "metadata": {},
   "source": [
    "## Train base Siamese model"
   ]
  },
  {
   "cell_type": "code",
   "execution_count": 7,
   "metadata": {},
   "outputs": [],
   "source": [
    "from model import BaseSiamese\n",
    "\n",
    "config = {}\n",
    "\n",
    "DEVICE = torch.device(\"cuda\")\n",
    "EMBEDDING_SIZE = fasttext_model.get_dimension()\n",
    "OUTPUT_DIR = \"trained_models\"\n",
    "MODEL_NAME = \"siamese_ft\"\n",
    "config = (OUTPUT_DIR, MODEL_NAME)\n",
    "\n",
    "model = BaseSiamese(EMBEDDING_SIZE)\n",
    "model.to(DEVICE)\n",
    "\n",
    "loss_fn = torch.nn.CosineEmbeddingLoss()\n",
    "optimizer = torch.optim.Adam(params=model.parameters(), weight_decay=1e-9)"
   ]
  },
  {
   "cell_type": "code",
   "execution_count": 8,
   "metadata": {},
   "outputs": [
    {
     "name": "stderr",
     "output_type": "stream",
     "text": [
      "100%|██████████| 1219/1219 [00:27<00:00, 44.70it/s]\n",
      "100%|██████████| 407/407 [00:09<00:00, 44.33it/s]\n"
     ]
    },
    {
     "name": "stdout",
     "output_type": "stream",
     "text": [
      "epoch 1, loss: 0.20077415099145937\n",
      "valid loss: 0.18861222029171645, valid F1 0.8369712817174858\n",
      "Best score, save model\n"
     ]
    },
    {
     "name": "stderr",
     "output_type": "stream",
     "text": [
      "100%|██████████| 1219/1219 [00:27<00:00, 44.56it/s]\n",
      "100%|██████████| 407/407 [00:09<00:00, 43.05it/s]\n"
     ]
    },
    {
     "name": "stdout",
     "output_type": "stream",
     "text": [
      "epoch 2, loss: 0.18790905056574778\n",
      "valid loss: 0.18759974324732506, valid F1 0.8375980282321309\n",
      "Best score, save model\n"
     ]
    },
    {
     "name": "stderr",
     "output_type": "stream",
     "text": [
      "100%|██████████| 1219/1219 [00:28<00:00, 43.10it/s]\n",
      "100%|██████████| 407/407 [00:09<00:00, 43.24it/s]\n"
     ]
    },
    {
     "name": "stdout",
     "output_type": "stream",
     "text": [
      "epoch 3, loss: 0.18730605846550544\n",
      "valid loss: 0.18732822669958307, valid F1 0.837749123376987\n",
      "Best score, save model\n"
     ]
    },
    {
     "name": "stderr",
     "output_type": "stream",
     "text": [
      "100%|██████████| 1219/1219 [00:27<00:00, 43.60it/s]\n",
      "100%|██████████| 407/407 [00:09<00:00, 44.13it/s]\n"
     ]
    },
    {
     "name": "stdout",
     "output_type": "stream",
     "text": [
      "epoch 4, loss: 0.187013447358043\n",
      "valid loss: 0.18712008720680304, valid F1 0.8379032258064516\n",
      "Best score, save model\n"
     ]
    },
    {
     "name": "stderr",
     "output_type": "stream",
     "text": [
      "100%|██████████| 1219/1219 [00:26<00:00, 45.21it/s]\n",
      "100%|██████████| 407/407 [00:08<00:00, 45.59it/s]\n"
     ]
    },
    {
     "name": "stdout",
     "output_type": "stream",
     "text": [
      "epoch 5, loss: 0.1868202631301426\n",
      "valid loss: 0.1870305415526655, valid F1 0.8379614065756741\n",
      "Best score, save model\n"
     ]
    }
   ],
   "source": [
    "from model import train\n",
    "train(DEVICE, model, train_dataloader, val_dataloader, loss_fn, optimizer, config, num_epochs=5)"
   ]
  },
  {
   "cell_type": "code",
   "execution_count": 9,
   "metadata": {},
   "outputs": [
    {
     "name": "stderr",
     "output_type": "stream",
     "text": [
      "100%|██████████| 542/542 [00:12<00:00, 45.13it/s]\n"
     ]
    },
    {
     "name": "stdout",
     "output_type": "stream",
     "text": [
      "              precision    recall  f1-score   support\n",
      "\n",
      "       False       0.85      0.91      0.88     76161\n",
      "        True       0.88      0.80      0.84     62479\n",
      "\n",
      "    accuracy                           0.86    138640\n",
      "   macro avg       0.86      0.85      0.86    138640\n",
      "weighted avg       0.86      0.86      0.86    138640\n",
      "\n"
     ]
    }
   ],
   "source": [
    "from model import evaluate\n",
    "from sklearn.metrics import classification_report\n",
    "\n",
    "best_model = BaseSiamese(EMBEDDING_SIZE)\n",
    "best_model.load_state_dict(torch.load(f\"{OUTPUT_DIR}/{MODEL_NAME}.pth\"))\n",
    "best_model.to(DEVICE)\n",
    "\n",
    "_, predicted_labels, correct_labels = evaluate(DEVICE, best_model, test_dataloader, loss_fn)\n",
    "print(classification_report(predicted_labels, correct_labels))"
   ]
  }
 ],
 "metadata": {
  "interpreter": {
   "hash": "26e80481c609af4ffba137e5a96c6bf171e02b8aef07539996be3af810c89232"
  },
  "kernelspec": {
   "display_name": "Python 3.8.10 ('.venv': venv)",
   "language": "python",
   "name": "python3"
  },
  "language_info": {
   "codemirror_mode": {
    "name": "ipython",
    "version": 3
   },
   "file_extension": ".py",
   "mimetype": "text/x-python",
   "name": "python",
   "nbconvert_exporter": "python",
   "pygments_lexer": "ipython3",
   "version": "3.8.10"
  },
  "orig_nbformat": 4
 },
 "nbformat": 4,
 "nbformat_minor": 2
}
